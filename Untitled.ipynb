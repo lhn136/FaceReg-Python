{
 "cells": [
  {
   "cell_type": "code",
   "execution_count": 1,
   "metadata": {},
   "outputs": [],
   "source": [
    "import cv2"
   ]
  },
  {
   "cell_type": "code",
   "execution_count": 2,
   "metadata": {},
   "outputs": [],
   "source": [
    "img=cv2.imread(\"galaxy.jpg\",1)"
   ]
  },
  {
   "cell_type": "code",
   "execution_count": 3,
   "metadata": {},
   "outputs": [
    {
     "name": "stdout",
     "output_type": "stream",
     "text": [
      "<class 'numpy.ndarray'>\n"
     ]
    }
   ],
   "source": [
    "print(type(img))"
   ]
  },
  {
   "cell_type": "code",
   "execution_count": 4,
   "metadata": {},
   "outputs": [
    {
     "name": "stdout",
     "output_type": "stream",
     "text": [
      "[[[ 73  87  86]\n",
      "  [ 76  90  89]\n",
      "  [ 87 101 100]\n",
      "  ...\n",
      "  [ 58  74  73]\n",
      "  [ 56  72  71]\n",
      "  [ 53  69  68]]\n",
      "\n",
      " [[ 79  93  92]\n",
      "  [ 75  89  88]\n",
      "  [ 81  95  94]\n",
      "  ...\n",
      "  [ 56  72  71]\n",
      "  [ 54  70  69]\n",
      "  [ 53  69  68]]\n",
      "\n",
      " [[ 88 102 101]\n",
      "  [ 82  96  95]\n",
      "  [ 82  95  97]\n",
      "  ...\n",
      "  [ 51  66  68]\n",
      "  [ 50  65  67]\n",
      "  [ 50  65  67]]\n",
      "\n",
      " ...\n",
      "\n",
      " [[ 92  94  95]\n",
      "  [ 88  90  91]\n",
      "  [ 78  80  81]\n",
      "  ...\n",
      "  [ 71  69  69]\n",
      "  [ 73  71  71]\n",
      "  [ 73  71  71]]\n",
      "\n",
      " [[ 89  91  92]\n",
      "  [ 84  86  87]\n",
      "  [ 80  82  83]\n",
      "  ...\n",
      "  [ 70  68  68]\n",
      "  [ 75  73  73]\n",
      "  [ 76  74  74]]\n",
      "\n",
      " [[ 80  82  83]\n",
      "  [ 74  76  77]\n",
      "  [ 75  77  78]\n",
      "  ...\n",
      "  [ 66  64  64]\n",
      "  [ 73  71  71]\n",
      "  [ 75  73  73]]]\n"
     ]
    }
   ],
   "source": [
    "print(img)"
   ]
  },
  {
   "cell_type": "code",
   "execution_count": 5,
   "metadata": {},
   "outputs": [
    {
     "name": "stdout",
     "output_type": "stream",
     "text": [
      "(3648, 3651, 3)\n"
     ]
    }
   ],
   "source": [
    "print(img.shape)"
   ]
  },
  {
   "cell_type": "code",
   "execution_count": 6,
   "metadata": {},
   "outputs": [
    {
     "name": "stdout",
     "output_type": "stream",
     "text": [
      "3\n"
     ]
    }
   ],
   "source": [
    "print(img.ndim)"
   ]
  },
  {
   "cell_type": "code",
   "execution_count": 7,
   "metadata": {},
   "outputs": [],
   "source": [
    "resize_image=cv2.resize(img,(img.shape[1]//3,img.shape[0]//3))"
   ]
  },
  {
   "cell_type": "code",
   "execution_count": null,
   "metadata": {},
   "outputs": [],
   "source": [
    "cv2.imshow(\"galaxy\",resize_image)"
   ]
  },
  {
   "cell_type": "code",
   "execution_count": null,
   "metadata": {},
   "outputs": [],
   "source": [
    "cv2.waitKey(0)"
   ]
  },
  {
   "cell_type": "code",
   "execution_count": null,
   "metadata": {},
   "outputs": [],
   "source": [
    "cv2.destroyAllWindow()"
   ]
  },
  {
   "cell_type": "code",
   "execution_count": null,
   "metadata": {},
   "outputs": [],
   "source": []
  }
 ],
 "metadata": {
  "kernelspec": {
   "display_name": "Python 3",
   "language": "python",
   "name": "python3"
  },
  "language_info": {
   "codemirror_mode": {
    "name": "ipython",
    "version": 3
   },
   "file_extension": ".py",
   "mimetype": "text/x-python",
   "name": "python",
   "nbconvert_exporter": "python",
   "pygments_lexer": "ipython3",
   "version": "3.6.4"
  }
 },
 "nbformat": 4,
 "nbformat_minor": 2
}
